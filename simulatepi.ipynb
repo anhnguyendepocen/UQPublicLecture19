{
 "cells": [
  {
   "cell_type": "code",
   "execution_count": 1,
   "metadata": {},
   "outputs": [
    {
     "name": "stdout",
     "output_type": "stream",
     "text": [
      "estimate of pi = 3.116\n"
     ]
    }
   ],
   "source": [
    "import numpy as np\n",
    "from numpy.random import rand\n",
    "import matplotlib.pyplot as plt\n",
    "N = 1000\n",
    "x = rand(2,N)\n",
    "ind = np.where(x[0,:]**2 + x[1,:]**2 < 1)\n",
    "ind2 = np.where(x[0,:]**2 + x[1,:]**2 >=1)\n",
    "NA = len(ind[0])\n",
    "plt.axes().set_aspect('equal')\n",
    "plt.plot(x[0,ind],x[1,ind],'b.')\n",
    "plt.plot(x[0,ind2],x[1,ind2],'r.',alpha=0.2)\n",
    "print('estimate of pi = {}'.format(4*NA/N))\n",
    "plt.savefig(\"simulatepi\")"
   ]
  },
  {
   "cell_type": "code",
   "execution_count": 3,
   "metadata": {},
   "outputs": [
    {
     "data": {
      "text/plain": [
       "799"
      ]
     },
     "execution_count": 3,
     "metadata": {},
     "output_type": "execute_result"
    }
   ],
   "source": [
    "len(ind[0])"
   ]
  },
  {
   "cell_type": "code",
   "execution_count": 2,
   "metadata": {},
   "outputs": [
    {
     "name": "stdout",
     "output_type": "stream",
     "text": [
      "estimate of pi = 3.140232\n"
     ]
    }
   ],
   "source": [
    "N = 1000000\n",
    "x = rand(2,N)\n",
    "ind = np.where(x[0,:]**2 + x[1,:]**2 < 1)\n",
    "NA = len(ind[0])\n",
    "print('estimate of pi = {}'.format(4*NA/N))"
   ]
  },
  {
   "cell_type": "code",
   "execution_count": null,
   "metadata": {},
   "outputs": [],
   "source": []
  },
  {
   "cell_type": "code",
   "execution_count": null,
   "metadata": {},
   "outputs": [],
   "source": []
  }
 ],
 "metadata": {
  "kernelspec": {
   "display_name": "Python 3",
   "language": "python",
   "name": "python3"
  },
  "language_info": {
   "codemirror_mode": {
    "name": "ipython",
    "version": 3
   },
   "file_extension": ".py",
   "mimetype": "text/x-python",
   "name": "python",
   "nbconvert_exporter": "python",
   "pygments_lexer": "ipython3",
   "version": "3.7.1"
  }
 },
 "nbformat": 4,
 "nbformat_minor": 2
}
