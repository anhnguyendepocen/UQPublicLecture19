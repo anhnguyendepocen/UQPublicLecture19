{
 "cells": [
  {
   "cell_type": "code",
   "execution_count": 1,
   "metadata": {},
   "outputs": [],
   "source": [
    "#Recursive Tree Challenge - www.101computing.net/recursive-tree-challenge\n",
    "from turtle import *\n",
    "from random import randint\n",
    "\n",
    "speed(2)\n",
    "pensize(5)\n",
    "#Recursive function to draw a tree, branch by branch\n",
    "def drawTree(level,size,angle,ratio):\n",
    "  if level >= 0:\n",
    "    sz = size + randint(0,10)\n",
    "    forward(sz)\n",
    "    la = angle + randint(0,2)\n",
    "    left(la)\n",
    "    drawTree(level-1,sz/ratio,angle,ratio)\n",
    "    ra = angle + randint(0,2)\n",
    "    right(la + ra)\n",
    "    #Draw right branch of the tree\n",
    "    drawTree(level-1,sz/ratio,angle,ratio)\n",
    "    left(ra)\n",
    "    forward(-sz)\n",
    "  else:\n",
    "    #Stop the recursion\n",
    "    return\n",
    "\n",
    "#Main Program Starts Here  \n",
    "speed(0)\n",
    "left(90)\n",
    "drawTree(6,100,20,1.5)\n",
    "exitonclick()"
   ]
  },
  {
   "cell_type": "code",
   "execution_count": null,
   "metadata": {},
   "outputs": [],
   "source": []
  }
 ],
 "metadata": {
  "kernelspec": {
   "display_name": "Python 3",
   "language": "python",
   "name": "python3"
  },
  "language_info": {
   "codemirror_mode": {
    "name": "ipython",
    "version": 3
   },
   "file_extension": ".py",
   "mimetype": "text/x-python",
   "name": "python",
   "nbconvert_exporter": "python",
   "pygments_lexer": "ipython3",
   "version": "3.7.0"
  }
 },
 "nbformat": 4,
 "nbformat_minor": 2
}
