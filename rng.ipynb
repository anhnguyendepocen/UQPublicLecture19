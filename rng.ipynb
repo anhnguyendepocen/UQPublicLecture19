{
 "cells": [
  {
   "cell_type": "code",
   "execution_count": 5,
   "metadata": {},
   "outputs": [
    {
     "name": "stdout",
     "output_type": "stream",
     "text": [
      "s = 2   u = 0.2857142857142857\n",
      "s = 6   u = 0.8571428571428571\n",
      "s = 4   u = 0.5714285714285714\n",
      "s = 5   u = 0.7142857142857143\n",
      "s = 1   u = 0.14285714285714285\n",
      "s = 3   u = 0.42857142857142855\n",
      "s = 2   u = 0.2857142857142857\n",
      "s = 6   u = 0.8571428571428571\n",
      "s = 4   u = 0.5714285714285714\n",
      "s = 5   u = 0.7142857142857143\n"
     ]
    }
   ],
   "source": [
    "a = 3\n",
    "m = 7\n",
    "s = 3\n",
    "for i in range(10):\n",
    "    s = s*a % m\n",
    "    print('s = {0}   u = {1}'.format(s,s/m))"
   ]
  },
  {
   "cell_type": "code",
   "execution_count": null,
   "metadata": {},
   "outputs": [],
   "source": []
  }
 ],
 "metadata": {
  "kernelspec": {
   "display_name": "Python 3",
   "language": "python",
   "name": "python3"
  },
  "language_info": {
   "codemirror_mode": {
    "name": "ipython",
    "version": 3
   },
   "file_extension": ".py",
   "mimetype": "text/x-python",
   "name": "python",
   "nbconvert_exporter": "python",
   "pygments_lexer": "ipython3",
   "version": "3.7.1"
  }
 },
 "nbformat": 4,
 "nbformat_minor": 2
}
