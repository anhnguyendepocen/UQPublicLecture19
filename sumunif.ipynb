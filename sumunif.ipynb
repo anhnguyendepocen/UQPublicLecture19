{
 "cells": [
  {
   "cell_type": "code",
   "execution_count": 3,
   "metadata": {},
   "outputs": [
    {
     "data": {
      "text/plain": [
       "(array([0.01226175, 0.03238104, 0.04979773, 0.06711433, 0.09223841,\n",
       "        0.11105644, 0.13352798, 0.15104477, 0.1736164 , 0.19063271,\n",
       "        0.2167077 , 0.22957003, 0.24658634, 0.27120994, 0.29313095,\n",
       "        0.31810489, 0.3300163 , 0.34327902, 0.36444931, 0.38922305,\n",
       "        0.40929229, 0.42435673, 0.45048176, 0.47145186, 0.48381371,\n",
       "        0.51399264, 0.53556331, 0.55588279, 0.56879516, 0.59702222,\n",
       "        0.61368819, 0.6332069 , 0.64241572, 0.67414614, 0.68765909,\n",
       "        0.69917012, 0.72674655, 0.74741636, 0.77314102, 0.79376078,\n",
       "        0.80962599, 0.82544115, 0.85011479, 0.87318691, 0.89876142,\n",
       "        0.91062279, 0.92393555, 0.95256299, 0.97818754, 1.00251086,\n",
       "        0.99895745, 0.96987958, 0.95316356, 0.93524639, 0.91662854,\n",
       "        0.87854204, 0.86753149, 0.85176638, 0.83495026, 0.80457114,\n",
       "        0.78870594, 0.76668483, 0.75332202, 0.73705643, 0.71968979,\n",
       "        0.68800942, 0.6688911 , 0.64827134, 0.62900287, 0.59436967,\n",
       "        0.58991541, 0.5593361 , 0.55117828, 0.5308588 , 0.50403309,\n",
       "        0.49702638, 0.46414486, 0.44792932, 0.43011224, 0.41224512,\n",
       "        0.39472833, 0.36750223, 0.35479005, 0.33497105, 0.31169875,\n",
       "        0.28377198, 0.26630524, 0.25324272, 0.22982027, 0.20664806,\n",
       "        0.19293492, 0.17201487, 0.15029405, 0.13467908, 0.10885433,\n",
       "        0.08968596, 0.07111816, 0.04919715, 0.03052926, 0.01025983]),\n",
       " array([1.69759119e-03, 2.16784222e-02, 4.16592531e-02, 6.16400841e-02,\n",
       "        8.16209151e-02, 1.01601746e-01, 1.21582577e-01, 1.41563408e-01,\n",
       "        1.61544239e-01, 1.81525070e-01, 2.01505901e-01, 2.21486732e-01,\n",
       "        2.41467563e-01, 2.61448394e-01, 2.81429225e-01, 3.01410056e-01,\n",
       "        3.21390887e-01, 3.41371718e-01, 3.61352549e-01, 3.81333380e-01,\n",
       "        4.01314211e-01, 4.21295042e-01, 4.41275873e-01, 4.61256704e-01,\n",
       "        4.81237535e-01, 5.01218366e-01, 5.21199197e-01, 5.41180028e-01,\n",
       "        5.61160859e-01, 5.81141690e-01, 6.01122521e-01, 6.21103351e-01,\n",
       "        6.41084182e-01, 6.61065013e-01, 6.81045844e-01, 7.01026675e-01,\n",
       "        7.21007506e-01, 7.40988337e-01, 7.60969168e-01, 7.80949999e-01,\n",
       "        8.00930830e-01, 8.20911661e-01, 8.40892492e-01, 8.60873323e-01,\n",
       "        8.80854154e-01, 9.00834985e-01, 9.20815816e-01, 9.40796647e-01,\n",
       "        9.60777478e-01, 9.80758309e-01, 1.00073914e+00, 1.02071997e+00,\n",
       "        1.04070080e+00, 1.06068163e+00, 1.08066246e+00, 1.10064329e+00,\n",
       "        1.12062413e+00, 1.14060496e+00, 1.16058579e+00, 1.18056662e+00,\n",
       "        1.20054745e+00, 1.22052828e+00, 1.24050911e+00, 1.26048994e+00,\n",
       "        1.28047077e+00, 1.30045160e+00, 1.32043244e+00, 1.34041327e+00,\n",
       "        1.36039410e+00, 1.38037493e+00, 1.40035576e+00, 1.42033659e+00,\n",
       "        1.44031742e+00, 1.46029825e+00, 1.48027908e+00, 1.50025991e+00,\n",
       "        1.52024075e+00, 1.54022158e+00, 1.56020241e+00, 1.58018324e+00,\n",
       "        1.60016407e+00, 1.62014490e+00, 1.64012573e+00, 1.66010656e+00,\n",
       "        1.68008739e+00, 1.70006822e+00, 1.72004906e+00, 1.74002989e+00,\n",
       "        1.76001072e+00, 1.77999155e+00, 1.79997238e+00, 1.81995321e+00,\n",
       "        1.83993404e+00, 1.85991487e+00, 1.87989570e+00, 1.89987653e+00,\n",
       "        1.91985736e+00, 1.93983820e+00, 1.95981903e+00, 1.97979986e+00,\n",
       "        1.99978069e+00]),\n",
       " <a list of 100 Patch objects>)"
      ]
     },
     "execution_count": 3,
     "metadata": {},
     "output_type": "execute_result"
    },
    {
     "data": {
      "image/png": "[encoded data removed]",
      "text/plain": [
       "<Figure size 432x288 with 1 Axes>"
      ]
     },
     "metadata": {
      "needs_background": "light"
     },
     "output_type": "display_data"
    }
   ],
   "source": [
    "import numpy as np\n",
    "import matplotlib.pyplot as plt\n",
    "from numpy.random import rand, randn\n",
    "N=10**6\n",
    "x = rand(N)\n",
    "y = rand(N)\n",
    "plt.hist(x+y,bins=100, density=True)"
   ]
  },
  {
   "cell_type": "code",
   "execution_count": null,
   "metadata": {},
   "outputs": [],
   "source": []
  }
 ],
 "metadata": {
  "kernelspec": {
   "display_name": "Python 3",
   "language": "python",
   "name": "python3"
  },
  "language_info": {
   "codemirror_mode": {
    "name": "ipython",
    "version": 3
   },
   "file_extension": ".py",
   "mimetype": "text/x-python",
   "name": "python",
   "nbconvert_exporter": "python",
   "pygments_lexer": "ipython3",
   "version": "3.7.0"
  }
 },
 "nbformat": 4,
 "nbformat_minor": 2
}
